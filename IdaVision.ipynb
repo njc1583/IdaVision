{
 "cells": [
  {
   "cell_type": "code",
   "execution_count": null,
   "metadata": {},
   "outputs": [],
   "source": [
    "import matplotlib.pyplot as plt\n",
    "import numpy as np\n",
    "\n",
    "import cv2\n",
    "\n",
    "import maxflow\n",
    "\n",
    "from VidFrame_utils import *\n",
    "from visualization_utils import *\n",
    "from video_utils import * \n",
    "\n",
    "from VidFrame import *\n",
    "\n",
    "from tqdm.notebook import tqdm\n",
    "\n",
    "from skimage.color import rgb2gray\n",
    "from skimage.filters import sobel\n",
    "from skimage.segmentation import slic\n",
    "from skimage.segmentation import mark_boundaries\n",
    "from skimage.util import img_as_float, img_as_ubyte\n",
    "from sklearn.cluster import KMeans\n",
    "from sklearn.mixture import GaussianMixture\n",
    "\n",
    "%load_ext autoreload\n",
    "%autoreload 2"
   ]
  },
  {
   "cell_type": "markdown",
   "metadata": {},
   "source": [
    "### Image Pre-Processing (Optional)"
   ]
  },
  {
   "cell_type": "code",
   "execution_count": null,
   "metadata": {
    "scrolled": true
   },
   "outputs": [],
   "source": [
    "H = 1080 // 3\n",
    "W = 1920 // 3\n",
    "\n",
    "vid_frames = load_video('videos/1_Basketball.mp4', H, W)\n",
    "print(vid_frames.shape)"
   ]
  },
  {
   "cell_type": "code",
   "execution_count": null,
   "metadata": {},
   "outputs": [],
   "source": [
    "n_clusters = 500\n",
    "compactness = 20"
   ]
  },
  {
   "cell_type": "code",
   "execution_count": null,
   "metadata": {},
   "outputs": [],
   "source": [
    "fig = segment_frames(vid_frames, [0,100,200,300], 2, 2, n_clusters, compactness)\n",
    "plt.show()"
   ]
  },
  {
   "cell_type": "code",
   "execution_count": null,
   "metadata": {},
   "outputs": [],
   "source": [
    "vid_labels = preprocess_video(vid_frames[:100], tqdm, n_clusters, compactness)"
   ]
  },
  {
   "cell_type": "code",
   "execution_count": null,
   "metadata": {},
   "outputs": [],
   "source": [
    "np.save('preprocess_cache/1_Basketball.npy', vid_labels)"
   ]
  },
  {
   "cell_type": "code",
   "execution_count": null,
   "metadata": {},
   "outputs": [],
   "source": [
    "# vidwrite_from_numpy('outputs/1_Basketball.mp4', vid_frames)"
   ]
  },
  {
   "cell_type": "markdown",
   "metadata": {},
   "source": [
    "### Visualizing Segmented Frames"
   ]
  },
  {
   "cell_type": "code",
   "execution_count": null,
   "metadata": {},
   "outputs": [],
   "source": [
    "H = 1080 // 3\n",
    "W = 1920 // 3\n",
    "\n",
    "vid_frames = load_video('videos/1_Basketball.mp4', H, W)[:100]\n",
    "label_frames = np.load('preprocess_cache/1_Basketball.npy')"
   ]
  },
  {
   "cell_type": "code",
   "execution_count": null,
   "metadata": {},
   "outputs": [],
   "source": [
    "F, H, W, C = vid_frames.shape\n",
    "\n",
    "segmented_vid_frames = np.zeros_like(vid_frames)\n",
    "\n",
    "for f in tqdm(range(F)):\n",
    "    segmented_vid_frames[f] = get_boundary_segments(vid_frames[f], label_frames[f])\n",
    "\n",
    "# vidwrite_from_numpy('outputs/1_Baketball_Segmented.mp4', segmented_vid_frames)"
   ]
  },
  {
   "cell_type": "code",
   "execution_count": null,
   "metadata": {
    "scrolled": false
   },
   "outputs": [],
   "source": [
    "plt.figure()\n",
    "\n",
    "fig = visualize_images(segmented_vid_frames[80:84], 2, 2)\n",
    "\n",
    "plt.show()"
   ]
  },
  {
   "cell_type": "code",
   "execution_count": null,
   "metadata": {},
   "outputs": [],
   "source": [
    "VidFrame80 = VidFrame(vid_frames[80], label_frames[80])\n",
    "VidFrame81 = VidFrame(vid_frames[81], label_frames[81])"
   ]
  },
  {
   "cell_type": "code",
   "execution_count": null,
   "metadata": {},
   "outputs": [],
   "source": [
    "jaccard_threshold = 0.4\n",
    "\n",
    "mpixels = VidFrame81.calculateMotionSuperpixels(VidFrame80, jaccard_threshold)\n",
    "\n",
    "print(mpixels)"
   ]
  },
  {
   "cell_type": "code",
   "execution_count": null,
   "metadata": {},
   "outputs": [],
   "source": [
    "imgs = np.zeros((3, H, W, 3), dtype=label_frames[80].dtype)\n",
    "\n",
    "imgs[0] = segmented_vid_frames[80]\n",
    "imgs[1] = segmented_vid_frames[81]\n",
    "\n",
    "motion_superpix_img = np.copy(segmented_vid_frames[81])\n",
    "\n",
    "for label in mpixels:\n",
    "    label_pix_x, label_pix_y = np.where(label_frames[81] == label) \n",
    "        \n",
    "    motion_superpix_img[label_pix_x,label_pix_y,:] = np.array([0,255,0])\n",
    "\n",
    "imgs[2] = motion_superpix_img\n",
    "\n",
    "fig = visualize_images(imgs, 1, 3)\n",
    "plt.show()"
   ]
  },
  {
   "cell_type": "code",
   "execution_count": null,
   "metadata": {},
   "outputs": [],
   "source": [
    "N_background_segments = 25\n",
    "background_compactness = 10"
   ]
  },
  {
   "cell_type": "code",
   "execution_count": null,
   "metadata": {},
   "outputs": [],
   "source": [
    "superpix_mask, background_mask = get_superpixel_masks(vid_frames[81], \n",
    "                                                      label_frames[81],\n",
    "                                                      mpixels)\n",
    "\n",
    "background_labels = slic_segment_image(\n",
    "    vid_frames[81], n_segments=N_background_segments, \n",
    "    compactness=background_compactness, mask=background_mask\n",
    ")\n",
    "\n",
    "background_boundary = get_boundary_segments(vid_frames[81],\n",
    "                                            background_labels)\n",
    "\n",
    "plt.figure()\n",
    "plt.imshow(label_frames[81])\n",
    "plt.show()\n",
    "\n",
    "plt.figure()\n",
    "plt.imshow(background_labels)\n",
    "plt.show()\n",
    "\n",
    "N_background_segments = np.unique(background_labels)\n",
    "\n",
    "plt.figure()\n",
    "plt.imshow(background_boundary)\n",
    "plt.show()\n",
    "\n",
    "n_objs, obj_labels = get_num_foreground_regions(superpix_mask)\n",
    "\n",
    "plt.figure()\n",
    "plt.imshow(obj_labels)\n",
    "plt.show()"
   ]
  },
  {
   "cell_type": "markdown",
   "metadata": {},
   "source": [
    "### Fit Gaussian Mixture Models for Background and Foreground"
   ]
  },
  {
   "cell_type": "code",
   "execution_count": null,
   "metadata": {},
   "outputs": [],
   "source": [
    "b_mogs, f_mogs = generate_gaussians(vid_frames[81], background_labels, \n",
    "                                    obj_labels, n_components=3)\n",
    "\n",
    "N_b, N_f = len(b_mogs), len(f_mogs)"
   ]
  },
  {
   "cell_type": "code",
   "execution_count": null,
   "metadata": {},
   "outputs": [],
   "source": [
    "t_k = np.zeros(N_f)\n",
    "\n",
    "sizes_b, priors_b = calculate_background_priors(background_labels)\n",
    "sizes_f, priors_f = calculate_foreground_priors(obj_labels, t_k, N_f)\n",
    "\n",
    "# print(priors_b)\n",
    "# print(priors_f)\n",
    "\n",
    "unary_background = calculate_unary_potential(vid_frames[81], label_frames[81], priors_b, b_mogs)\n",
    "unary_foreground = calculate_unary_potential(vid_frames[81], label_frames[81], priors_f, f_mogs)\n",
    "\n",
    "# print(unary_background)\n",
    "# print(unary_foreground)"
   ]
  },
  {
   "cell_type": "code",
   "execution_count": null,
   "metadata": {},
   "outputs": [],
   "source": [
    "n_superpixels = label_frames[81].max() + 1\n",
    "\n",
    "graph = maxflow.Graph[float]()\n",
    "\n",
    "nodeids = graph.add_grid_nodes(n_superpixels)\n",
    "\n",
    "# graph.add_grid_edges(nodeids, 1)\n",
    "\n",
    "graph.add_grid_tedges(nodeids, unary_foreground, unary_background)"
   ]
  },
  {
   "cell_type": "code",
   "execution_count": null,
   "metadata": {},
   "outputs": [],
   "source": [
    "mflow = graph.maxflow()\n",
    "sgm = graph.get_grid_segments(nodeids)\n",
    "\n",
    "print(mflow)"
   ]
  },
  {
   "cell_type": "code",
   "execution_count": null,
   "metadata": {},
   "outputs": [],
   "source": [
    "obj_mask = graph_segmentation_to_object_mask(H, W, label_frames[81], sgm)\n",
    "\n",
    "plt.figure()\n",
    "plt.imshow(obj_mask, cmap='gray')"
   ]
  },
  {
   "cell_type": "code",
   "execution_count": null,
   "metadata": {},
   "outputs": [],
   "source": [
    "blank_img = np.zeros((H, W))\n",
    "\n",
    "white_lines = mark_boundaries(blank_img, label_frames[81], color=(1,1,1))[:,:,0]\n",
    "\n",
    "plt.figure()\n",
    "plt.imshow(white_lines, cmap='gray')\n",
    "\n",
    "w_x, w_y = np.where(white_lines == 1)"
   ]
  },
  {
   "cell_type": "code",
   "execution_count": null,
   "metadata": {},
   "outputs": [],
   "source": [
    "n_superpixels = label_frames[81].max() + 1\n",
    "\n",
    "graph = maxflow.Graph[float]()\n",
    "\n",
    "nodeids = graph.add_grid_nodes(n_superpixels)\n",
    "\n",
    "# graph.add_grid_edges(nodeids, 1)\n",
    "\n",
    "graph.add_grid_tedges(nodeids, unary_foreground, unary_background)\n",
    "\n",
    "create_adjacency_edges(vid_frames[81], label_frames[81], graph, f_mogs, b_mogs, 500)"
   ]
  },
  {
   "cell_type": "code",
   "execution_count": null,
   "metadata": {},
   "outputs": [],
   "source": [
    "mflow = graph.maxflow()\n",
    "\n",
    "print(mflow)\n",
    "\n",
    "sgm = graph.get_grid_segments(nodeids)\n",
    "\n",
    "obj_mask = graph_segmentation_to_object_mask(H, W, label_frames[81], sgm)\n",
    "\n",
    "plt.figure()\n",
    "plt.imshow(obj_mask, cmap='gray')"
   ]
  }
 ],
 "metadata": {
  "kernelspec": {
   "display_name": "Python 3",
   "language": "python",
   "name": "python3"
  },
  "language_info": {
   "codemirror_mode": {
    "name": "ipython",
    "version": 3
   },
   "file_extension": ".py",
   "mimetype": "text/x-python",
   "name": "python",
   "nbconvert_exporter": "python",
   "pygments_lexer": "ipython3",
   "version": "3.8.5"
  }
 },
 "nbformat": 4,
 "nbformat_minor": 4
}
