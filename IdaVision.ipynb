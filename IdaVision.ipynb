{
 "cells": [
  {
   "cell_type": "code",
   "execution_count": null,
   "metadata": {},
   "outputs": [],
   "source": [
    "import matplotlib.pyplot as plt\n",
    "import numpy as np\n",
    "\n",
    "import cv2\n",
    "\n",
    "import maxflow\n",
    "\n",
    "from frame_utils import *\n",
    "from visualization_utils import *\n",
    "from video_utils import * \n",
    "from main import *\n",
    "\n",
    "from VidFrame import *\n",
    "\n",
    "from tqdm.notebook import tqdm\n",
    "\n",
    "from skimage.color import rgb2gray\n",
    "from skimage.filters import sobel\n",
    "from skimage.segmentation import slic\n",
    "from skimage.segmentation import mark_boundaries\n",
    "from skimage.util import img_as_float, img_as_ubyte\n",
    "from sklearn.cluster import KMeans\n",
    "from sklearn.mixture import GaussianMixture\n",
    "\n",
    "%load_ext autoreload\n",
    "%autoreload 2"
   ]
  },
  {
   "cell_type": "markdown",
   "metadata": {},
   "source": [
    "### Image Pre-Processing (Optional)"
   ]
  },
  {
   "cell_type": "code",
   "execution_count": null,
   "metadata": {
    "scrolled": true
   },
   "outputs": [],
   "source": [
    "H = 1080 // 3\n",
    "W = 1920 // 3\n",
    "\n",
    "vid_frames = load_video('videos/1_Basketball.mp4', H, W)\n",
    "print(vid_frames.shape)"
   ]
  },
  {
   "cell_type": "code",
   "execution_count": null,
   "metadata": {},
   "outputs": [],
   "source": [
    "n_clusters = 500\n",
    "compactness = 20"
   ]
  },
  {
   "cell_type": "code",
   "execution_count": null,
   "metadata": {},
   "outputs": [],
   "source": [
    "fig = segment_frames(vid_frames, [0,100,200,300], 2, 2, n_clusters, compactness)\n",
    "plt.show()"
   ]
  },
  {
   "cell_type": "code",
   "execution_count": null,
   "metadata": {},
   "outputs": [],
   "source": [
    "vid_labels = preprocess_video(vid_frames[:100], tqdm, n_clusters, compactness)"
   ]
  },
  {
   "cell_type": "code",
   "execution_count": null,
   "metadata": {},
   "outputs": [],
   "source": [
    "np.save('preprocess_cache/1_Basketball.npy', vid_labels)"
   ]
  },
  {
   "cell_type": "code",
   "execution_count": null,
   "metadata": {},
   "outputs": [],
   "source": [
    "# vidwrite_from_numpy('outputs/1_Basketball.mp4', vid_frames)"
   ]
  },
  {
   "cell_type": "markdown",
   "metadata": {},
   "source": [
    "### Visualizing Segmented Frames"
   ]
  },
  {
   "cell_type": "code",
   "execution_count": null,
   "metadata": {},
   "outputs": [],
   "source": [
    "H = 1080 // 3\n",
    "W = 1920 // 3\n",
    "\n",
    "vid_frames = load_video('videos/1_Basketball.mp4', H, W)[:100]\n",
    "label_frames = np.load('preprocess_cache/1_Basketball.npy')"
   ]
  },
  {
   "cell_type": "code",
   "execution_count": null,
   "metadata": {},
   "outputs": [],
   "source": [
    "F, H, W, C = vid_frames.shape\n",
    "\n",
    "segmented_vid_frames = np.zeros_like(vid_frames)\n",
    "\n",
    "for f in tqdm(range(F)):\n",
    "    segmented_vid_frames[f] = get_boundary_segments(vid_frames[f], label_frames[f])\n",
    "\n",
    "# vidwrite_from_numpy('outputs/1_Baketball_Segmented.mp4', segmented_vid_frames)"
   ]
  },
  {
   "cell_type": "code",
   "execution_count": null,
   "metadata": {
    "scrolled": false
   },
   "outputs": [],
   "source": [
    "plt.figure()\n",
    "\n",
    "fig = visualize_images(segmented_vid_frames[80:84], 2, 2)\n",
    "\n",
    "plt.show()"
   ]
  },
  {
   "cell_type": "code",
   "execution_count": null,
   "metadata": {},
   "outputs": [],
   "source": [
    "VidFrame80 = VidFrame(vid_frames[80], label_frames[80])\n",
    "VidFrame81 = VidFrame(vid_frames[81], label_frames[81])"
   ]
  },
  {
   "cell_type": "code",
   "execution_count": null,
   "metadata": {},
   "outputs": [],
   "source": [
    "jaccard_threshold = 0.3\n",
    "\n",
    "mpixels = VidFrame81.calculateMotionSuperpixels(VidFrame80, jaccard_threshold)\n",
    "\n",
    "print(mpixels)"
   ]
  },
  {
   "cell_type": "code",
   "execution_count": null,
   "metadata": {},
   "outputs": [],
   "source": [
    "imgs = np.zeros((3, H, W, 3), dtype=VidFrame81.vid_frame.dtype)\n",
    "\n",
    "imgs[0] = VidFrame80.getSegmentedImage()\n",
    "imgs[1] = VidFrame81.getSegmentedImage()\n",
    "\n",
    "imgs[2] = VidFrame81.colorMotionSuperpixels()\n",
    "\n",
    "fig = visualize_images(imgs, 1, 3)\n",
    "plt.show()"
   ]
  },
  {
   "cell_type": "code",
   "execution_count": null,
   "metadata": {},
   "outputs": [],
   "source": [
    "N_background_segments = 25\n",
    "background_compactness = 10"
   ]
  },
  {
   "cell_type": "code",
   "execution_count": null,
   "metadata": {},
   "outputs": [],
   "source": [
    "view_vidframe_segmentations(VidFrame81, N_background_segments, background_compactness)"
   ]
  },
  {
   "cell_type": "markdown",
   "metadata": {},
   "source": [
    "### Fit Gaussian Mixture Models for Background and Foreground"
   ]
  },
  {
   "cell_type": "code",
   "execution_count": null,
   "metadata": {},
   "outputs": [],
   "source": [
    "b_mogs, f_mogs, N_b, N_f = VidFrame81.generateGaussians(3)\n",
    "\n",
    "t_k = np.zeros(N_f)\n",
    "\n",
    "priors_b = calculate_background_priors(b_mogs)\n",
    "priors_f = calculate_foreground_priors(f_mogs, N_f)"
   ]
  },
  {
   "cell_type": "code",
   "execution_count": null,
   "metadata": {},
   "outputs": [],
   "source": [
    "VidFrame81.createMaxflowGraph(b_mogs, priors_b, f_mogs, priors_f, 500)\n",
    "\n",
    "maxflow_val,object_mask = VidFrame81.createObjectSegmentation()\n",
    "\n",
    "print(maxflow_val)\n",
    "plt.figure()\n",
    "plt.imshow(object_mask, cmap='gray')"
   ]
  },
  {
   "cell_type": "code",
   "execution_count": null,
   "metadata": {},
   "outputs": [],
   "source": [
    "VidFrame82 = VidFrame(vid_frames[82], label_frames[82])\n",
    "\n",
    "mpixels = VidFrame82.calculateMotionSuperpixels(VidFrame81, jaccard_threshold)\n",
    "\n",
    "print(mpixels)"
   ]
  },
  {
   "cell_type": "code",
   "execution_count": null,
   "metadata": {},
   "outputs": [],
   "source": [
    "view_vidframe_segmentations(VidFrame82, N_background_segments, background_compactness)"
   ]
  },
  {
   "cell_type": "code",
   "execution_count": null,
   "metadata": {},
   "outputs": [],
   "source": [
    "VidFrame82.createMaxflowGraph(b_mogs, priors_b, f_mogs, priors_f, 500)\n",
    "\n",
    "maxflow_val,object_mask = VidFrame82.createObjectSegmentation()\n",
    "\n",
    "print(maxflow_val)\n",
    "plt.figure()\n",
    "plt.imshow(object_mask, cmap='gray')"
   ]
  },
  {
   "cell_type": "code",
   "execution_count": null,
   "metadata": {},
   "outputs": [],
   "source": [
    "update_background_models(VidFrame82, b_mogs)"
   ]
  },
  {
   "cell_type": "code",
   "execution_count": null,
   "metadata": {},
   "outputs": [],
   "source": [
    "update_foreground_models(VidFrame82, f_mogs, 0.8, 15)\n",
    "\n",
    "N_f = len(f_mogs)\n",
    "\n",
    "priors_b = calculate_background_priors(b_mogs)\n",
    "priors_f = calculate_foreground_priors(f_mogs, N_f)"
   ]
  },
  {
   "cell_type": "code",
   "execution_count": null,
   "metadata": {},
   "outputs": [],
   "source": [
    "VidFrame83 = VidFrame(vid_frames[83], label_frames[83])\n",
    "\n",
    "mpixels = VidFrame83.calculateMotionSuperpixels(VidFrame82, jaccard_threshold)\n",
    "\n",
    "print(mpixels)\n",
    "\n",
    "view_vidframe_segmentations(VidFrame83, N_background_segments, background_compactness)\n",
    "\n",
    "VidFrame83.createMaxflowGraph(b_mogs, priors_b, f_mogs, priors_f, 500)\n",
    "\n",
    "maxflow_val,object_mask = VidFrame83.createObjectSegmentation()\n",
    "\n",
    "print(maxflow_val)\n",
    "plt.figure()\n",
    "plt.imshow(object_mask, cmap='gray')"
   ]
  },
  {
   "cell_type": "markdown",
   "metadata": {},
   "source": [
    "### Process multiple frames at once"
   ]
  },
  {
   "cell_type": "code",
   "execution_count": null,
   "metadata": {},
   "outputs": [],
   "source": [
    "N_background_segments = 25\n",
    "background_compactness = 10"
   ]
  },
  {
   "cell_type": "code",
   "execution_count": null,
   "metadata": {},
   "outputs": [],
   "source": [
    "VidFrame60 = VidFrame(vid_frames[60], label_frames[60])\n",
    "VidFrame61 = VidFrame(vid_frames[61], label_frames[61])\n",
    "\n",
    "mpixels = VidFrame61.calculateMotionSuperpixels(VidFrame60, jaccard_threshold)\n",
    "\n",
    "print(mpixels)\n",
    "\n",
    "view_vidframe_segmentations(VidFrame61, N_background_segments, background_compactness)\n",
    "\n",
    "b_mogs, f_mogs, N_b, N_f = VidFrame61.generateGaussians(3)\n",
    "\n",
    "t_k = np.zeros(N_f)\n",
    "\n",
    "priors_b = calculate_background_priors(b_mogs)\n",
    "priors_f = calculate_foreground_priors(f_mogs, N_f)\n",
    "\n",
    "\n",
    "VidFrame61.createMaxflowGraph(b_mogs, priors_b, f_mogs, priors_f, 500)\n",
    "\n",
    "maxflow_val,object_mask = VidFrame61.createObjectSegmentation()\n",
    "\n",
    "print(maxflow_val)\n",
    "plt.figure()\n",
    "plt.imshow(object_mask, cmap='gray')"
   ]
  },
  {
   "cell_type": "code",
   "execution_count": null,
   "metadata": {
    "scrolled": false
   },
   "outputs": [],
   "source": [
    "process_frames(vid_frames, label_frames, 60, 70)"
   ]
  }
 ],
 "metadata": {
  "kernelspec": {
   "display_name": "Python 3",
   "language": "python",
   "name": "python3"
  },
  "language_info": {
   "codemirror_mode": {
    "name": "ipython",
    "version": 3
   },
   "file_extension": ".py",
   "mimetype": "text/x-python",
   "name": "python",
   "nbconvert_exporter": "python",
   "pygments_lexer": "ipython3",
   "version": "3.8.5"
  }
 },
 "nbformat": 4,
 "nbformat_minor": 4
}
