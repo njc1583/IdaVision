{
 "cells": [
  {
   "cell_type": "code",
   "execution_count": null,
   "metadata": {},
   "outputs": [],
   "source": [
    "import matplotlib.pyplot as plt\n",
    "import numpy as np\n",
    "\n",
    "import cv2\n",
    "\n",
    "from video_utils import *\n",
    "from frame_utils import *\n",
    "from foreground_segmentation import *\n",
    "\n",
    "from tqdm.notebook import tqdm\n",
    "\n",
    "from skimage.color import rgb2gray\n",
    "from skimage.filters import sobel\n",
    "from skimage.segmentation import slic\n",
    "from skimage.segmentation import mark_boundaries\n",
    "from skimage.util import img_as_float, img_as_ubyte\n",
    "\n",
    "%load_ext autoreload\n",
    "%autoreload 2"
   ]
  },
  {
   "cell_type": "markdown",
   "metadata": {},
   "source": [
    "### Image Pre-Processing (Optional)"
   ]
  },
  {
   "cell_type": "code",
   "execution_count": null,
   "metadata": {
    "scrolled": true
   },
   "outputs": [],
   "source": [
    "H = 1080 // 3\n",
    "W = 1920 // 3\n",
    "\n",
    "vid_frames = load_video('videos/1_Basketball.mp4', H, W)\n",
    "print(vid_frames.shape)"
   ]
  },
  {
   "cell_type": "code",
   "execution_count": null,
   "metadata": {},
   "outputs": [],
   "source": [
    "n_clusters = 500\n",
    "compactness = 20"
   ]
  },
  {
   "cell_type": "code",
   "execution_count": null,
   "metadata": {},
   "outputs": [],
   "source": [
    "fig, ax = segment_frames(vid_frames, [0,100,200,300], 2, 2, n_clusters, compactness)\n",
    "plt.show()"
   ]
  },
  {
   "cell_type": "code",
   "execution_count": null,
   "metadata": {},
   "outputs": [],
   "source": [
    "vid_labels = preprocess_video(vid_frames[:100], tqdm, n_clusters, compactness)"
   ]
  },
  {
   "cell_type": "code",
   "execution_count": null,
   "metadata": {},
   "outputs": [],
   "source": [
    "np.save('preprocess_cache/1_Basketball.npy', vid_labels)"
   ]
  },
  {
   "cell_type": "code",
   "execution_count": null,
   "metadata": {},
   "outputs": [],
   "source": [
    "# vidwrite_from_numpy('outputs/1_Basketball.mp4', vid_frames)"
   ]
  },
  {
   "cell_type": "markdown",
   "metadata": {},
   "source": [
    "### Visualizing Segmented Frames"
   ]
  },
  {
   "cell_type": "code",
   "execution_count": null,
   "metadata": {},
   "outputs": [],
   "source": [
    "H = 1080 // 3\n",
    "W = 1920 // 3\n",
    "\n",
    "vid_frames = load_video('videos/1_Basketball.mp4', H, W)[:100]\n",
    "label_frames = np.load('preprocess_cache/1_Basketball.npy')"
   ]
  },
  {
   "cell_type": "code",
   "execution_count": null,
   "metadata": {},
   "outputs": [],
   "source": [
    "F, H, W, C = vid_frames.shape\n",
    "\n",
    "segmented_vid_frames = np.zeros_like(vid_frames)\n",
    "\n",
    "for f in tqdm(range(F)):\n",
    "    segmented_frame = get_segmented_image(vid_frames[f], label_frames[f])\n",
    "    segmented_vid_frames[f] = img_as_ubyte(segmented_frame)\n",
    "    \n",
    "vidwrite_from_numpy('outputs/1_Baketball_Segmented.mp4', segmented_vid_frames)"
   ]
  },
  {
   "cell_type": "code",
   "execution_count": null,
   "metadata": {
    "scrolled": false
   },
   "outputs": [],
   "source": [
    "plt.figure()\n",
    "fig, ax = plt.subplots(2, 2, figsize=(7,4))\n",
    "\n",
    "I = 80\n",
    "\n",
    "ax[0,0].imshow(segmented_vid_frames[I])\n",
    "ax[0,1].imshow(segmented_vid_frames[I+1])\n",
    "ax[1,0].imshow(segmented_vid_frames[I+2])\n",
    "ax[1,1].imshow(segmented_vid_frames[I+3])\n",
    "\n",
    "for a in ax.ravel():\n",
    "    a.set_axis_off()"
   ]
  },
  {
   "cell_type": "code",
   "execution_count": null,
   "metadata": {},
   "outputs": [],
   "source": [
    "jaccand_threshold = 0.4\n",
    "\n",
    "mpixels = get_motion_superpixels(\n",
    "    label_frames[80], label_frames[81], jaccand_threshold\n",
    ")"
   ]
  },
  {
   "cell_type": "code",
   "execution_count": null,
   "metadata": {},
   "outputs": [],
   "source": [
    "motion_superpix_img = np.copy(segmented_vid_frames[81])\n",
    "\n",
    "for label in mpixels:\n",
    "    label_pix_x, label_pix_y = np.where(label_frames[81] == label) \n",
    "        \n",
    "    motion_superpix_img[label_pix_x,label_pix_y,:] = np.array([0,255,0])\n",
    "    \n",
    "plt.figure()\n",
    "fig, ax = plt.subplots(1, 3, figsize=(7,4))\n",
    "\n",
    "ax[0].imshow(segmented_vid_frames[80])\n",
    "ax[1].imshow(segmented_vid_frames[81])\n",
    "ax[2].imshow(motion_superpix_img)\n",
    "\n",
    "plt.show()"
   ]
  }
 ],
 "metadata": {
  "kernelspec": {
   "display_name": "Python 3",
   "language": "python",
   "name": "python3"
  },
  "language_info": {
   "codemirror_mode": {
    "name": "ipython",
    "version": 3
   },
   "file_extension": ".py",
   "mimetype": "text/x-python",
   "name": "python",
   "nbconvert_exporter": "python",
   "pygments_lexer": "ipython3",
   "version": "3.8.5"
  }
 },
 "nbformat": 4,
 "nbformat_minor": 4
}
